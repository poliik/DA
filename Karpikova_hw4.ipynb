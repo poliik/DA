{
 "cells": [
  {
   "cell_type": "markdown",
   "metadata": {},
   "source": [
    "# Алгоритмы интеллектуальной обработки больших объемов данных\n",
    "## Домашнее задание №4 - Метод k-средних, предобработка признаков\n"
   ]
  },
  {
   "cell_type": "markdown",
   "metadata": {},
   "source": [
    "###### <hr\\>\n",
    "**Общая информация**\n",
    "\n",
    "**Срок сдачи:** 28 ноября 2018, 06:00 <br\\>\n",
    "**Штраф за опоздание:** -2 балла после 06:00 28 ноября, -4 балла после 06:00 5 декабря, -6 баллов после 06:00 12 декабря, -8 баллов после 19 декабря\n",
    "\n",
    "При отправлении ДЗ указывайте фамилию в названии файла\n",
    "Присылать ДЗ необходимо в виде ссылки на свой github репозиторий в slack @alkhamush\n",
    "\n",
    "Необходимо в slack создать таск в приватный чат:\n",
    "/todo Фамилия Имя ссылка на гитхаб @alkhamush\n",
    "Пример:\n",
    "/todo Ксения Стройкова https://github.com/stroykova/spheremailru/stroykova_hw1.ipynb @alkhamush\n",
    "Дополнительно нужно просто скинуть ссылку в slack в личный чат\n",
    "\n",
    "Используйте данный Ipython Notebook при оформлении домашнего задания."
   ]
  },
  {
   "cell_type": "markdown",
   "metadata": {},
   "source": [
    "# Имплементация K-means\n",
    "\n",
    "Пользуясь наработками выше, имплементируйте метод k-means.  \n",
    "При инициализации необходимо задавать количество кластеров, функцию расстояния между кластерами (для оригинального k-means - евклидово расстояние) и начальное состояние генератора случайных чисел.\n",
    "\n",
    "После обучения, среди атрибутов класса `Kmeans` должны появится\n",
    "* Метки кластеров для объектов\n",
    "* Координаты центройдов кластеров\n",
    "\n",
    "k-means - это алгоритм **кластеризации**, а не классификации, а посему метод `.predict()` в нем фактически не нужен, но он может возвращать метки ближайшего кластера для объектов."
   ]
  },
  {
   "cell_type": "markdown",
   "metadata": {},
   "source": [
    "###### Задание 1 (2 баллов)\n",
    "Имплементируйте метод k-means. Задание считается выполненным, если Ваша реализация работает быстрее реализации из sklearn.\n",
    "\n",
    "Теория для выполнения задания 2 и 3 остаётся на самостоятельное изучение. Теории немного и она совсем простая.\n",
    "\n",
    "###### Задание 2 (2 балла)\n",
    "Имплементируйте класс MiniBatchKMeans, который является классом наследником Kmeans.\n",
    "\n",
    "###### Задание 3 (2 балла)\n",
    "Превратите k-means в k-means++. Для этого нужно реализовать метод в классе Kmeans, который будет инициализировать более \"хорошие\" значения центроидов. Чтобы использовался метод k-means++, в параметр init необходимо передать строковое значение 'k-means' (по умолчанию 'random').\n",
    "\n",
    "###### Задание 4 (2 балла)\n",
    "В пункте \"Проверка корректности метода\" нужно нарисовать графики, которые показывают зависимость времени выполнения алгоритма от количества сэмплов. Графики должны быть  нарисованы для различных комбинаций реализаций алгоритма (k-means, k-means++, k-means с MiniBatchKMeans, k-means++ с MiniBatchKMeans). График достаточно построить на 5-10 точках.\n",
    "\n",
    "###### Задание 5 (2 балла)\n",
    "В пункте \"Применение K-means на реальных данных\" нужно сравнить различные реализации k-means (k-means, k-means++, k-means с MiniBatchKMeans, k-means++ с MiniBatchKMeans). После чего написать вывод, в котором должно быть объяснение того, почему один алгоритм оказался лучше остальных или почему не было выявлено лучшего алгоритма.\n",
    "\n",
    "**Штрафные баллы:**\n",
    "\n",
    "1. Невыполнение PEP8 -1 балл\n",
    "2. Отсутствие фамилии в имени скрипта (скрипт должен называться по аналогии со stroykova_hw4.ipynb) -1 балл\n",
    "3. Все строчки должны быть выполнены. Нужно, чтобы output команды можно было увидеть уже в git'е. В противном случае -1 балл\n",
    "4. При оформлении ДЗ нужно пользоваться данным файлом в качестве шаблона. Не нужно удалять и видоизменять написанный код и текст. В противном случае -1 балл\n",
    "<hr\\>"
   ]
  },
  {
   "cell_type": "code",
   "execution_count": 1,
   "metadata": {},
   "outputs": [],
   "source": [
    "import pandas as pd\n",
    "import numpy as np\n",
    "import matplotlib.pyplot as plt\n",
    "\n",
    "%matplotlib inline\n",
    "\n",
    "plt.style.use('ggplot')\n",
    "plt.rcParams['figure.figsize'] = (12,5)\n",
    "\n",
    "%load_ext pycodestyle_magic"
   ]
  },
  {
   "cell_type": "code",
   "execution_count": 182,
   "metadata": {},
   "outputs": [],
   "source": [
    "#%%pycodestyle\n",
    "\n",
    "\n",
    "class MyKmeans:\n",
    "\n",
    "    def __init__(self, k=2, metric='euclidean', max_iter=1000,\n",
    "                 random_state=None, init='random'):\n",
    "        \"\"\"\n",
    "        Инициализация метода\n",
    "        :k - количество кластеров\n",
    "        :metric - функция расстояния между объектами\n",
    "        :max_iter - максиальное количество итераций\n",
    "        :random_state - seed для инициализации генератора случайных чисел\n",
    "        \"\"\"\n",
    "\n",
    "        self.k = k\n",
    "        self.random_state = random_state\n",
    "        self.metric = metric\n",
    "        self.max_iter = max_iter\n",
    "        self.init = init\n",
    "\n",
    "    def init_centroids(self, X, y=None):\n",
    "        if self.init == 'random':\n",
    "            self.centroid = X[np.random.choice(X.shape[0], self.k)]\n",
    "        elif self.init == 'k-means':\n",
    "            self.centroid[0] = X[np.random.choice(X.shape[0])]\n",
    "\n",
    "            X_sqr = (X ** 2).sum(axis=1)\n",
    "            for i in range(1, self.k):\n",
    "                dist = X_sqr.reshape(-1, 1) - 2 * X.dot(self.centroid[:i].T) +\\\n",
    "                      (self.centroid[:i] ** 2).sum(axis=1)\n",
    "                dist = np.min(dist, axis=1)\n",
    "                self.centroid[i] = X[np.random.choice(X.shape[0],\n",
    "                                                      size=1,\n",
    "                                                      p=abs(dist/dist.sum()))]\n",
    "\n",
    "    def fit(self, X, y=None):\n",
    "        \"\"\"\n",
    "        Процедура обучения k-means\n",
    "        \"\"\"\n",
    "\n",
    "        # Инициализация генератора случайных чисел\n",
    "        np.random.seed(self.random_state)\n",
    "\n",
    "        # Массив с метками кластеров для каждого объекта из X\n",
    "        self.labels = np.empty(X.shape[0])\n",
    "\n",
    "        # Массив с центройдами кластеров\n",
    "        self.centroid = np.empty((self.k, X.shape[1]))\n",
    "\n",
    "        # Your Code Here\n",
    "        self.init_centroids(X)\n",
    "        centroid = np.empty((self.k, X.shape[1]))\n",
    "        eps = 0.00001\n",
    "        for i in range(self.max_iter):\n",
    "            self.labels = self.predict(X)\n",
    "            for i in range(self.k):\n",
    "                centroid[i] = (X[self.labels == i, :]).mean(axis = 0)\n",
    "            if ((centroid - self.centroid) ** 2).sum() < eps:\n",
    "                return self\n",
    "            self.centroid = centroid\n",
    "        return self\n",
    "\n",
    "    def predict(self, X, y=None):\n",
    "        \"\"\"\n",
    "        Процедура предсказания кластера\n",
    "\n",
    "        Возвращает метку ближайшего кластера для каждого объекта\n",
    "        \"\"\"\n",
    "        x_dist = (X ** 2).sum(axis=1)\n",
    "        centr_dist = (self.centroid ** 2).sum(axis=1).reshape(-1, 1)\n",
    "        dist = x_dist + centr_dist - 2 * self.centroid.dot(X.T)\n",
    "        return np.argmin(dist, axis=0)\n",
    "\n",
    "class MiniBatchKMeans(MyKmeans):\n",
    "\n",
    "    def __init__(self, k=2, metric='euclidean', max_iter=100,\n",
    "                 random_state=None, init='random', batch_size=100):\n",
    "\n",
    "        MyKmeans.__init__(self, k, metric, max_iter, random_state, init)\n",
    "        self.batch_size = batch_size\n",
    "\n",
    "    def fit(self, X):\n",
    "        np.random.seed(self.random_state)\n",
    "        self.labels = np.empty(X.shape[0])\n",
    "        self.centroid = np.empty((self.k, X.shape[1]))\n",
    "\n",
    "        self.init_centroids(X)\n",
    "        eps = 0.00001\n",
    "        centroid = np.empty((self.k, X.shape[1]))\n",
    "\n",
    "        for i in range(self.max_iter):\n",
    "            np.random.shuffle(X)\n",
    "            batch = X[:self.batch_size]\n",
    "            self.labels = self.predict(batch)\n",
    "            for i in range(self.k):\n",
    "                if self.labels[self.labels == i].shape[0] != 0:\n",
    "                    centroid[i] = (batch[self.labels == i, :]).mean(axis=0)\n",
    "            if np.sum((centroid - self.centroid) ** 2) < eps:\n",
    "                return self\n",
    "            self.centroid = centroid\n",
    "        return self"
   ]
  },
  {
   "cell_type": "markdown",
   "metadata": {},
   "source": [
    "### Проверка корректности метода\n",
    "\n",
    "Перед тем как применять алгоритм на реальных данных, нужно испытать его на простых \"игрушечных\" данных.\n",
    "\n",
    "Если алгоритм реализован правильно, то метод должен идеально разбивать на 3 кластера данные ниже. Проверьте это.\n",
    "\n",
    "ВНИМАНИЕ! Проверка должна быть осуществлена на всех реализациях, иначе реализация не будет зачтена!"
   ]
  },
  {
   "cell_type": "code",
   "execution_count": 161,
   "metadata": {},
   "outputs": [],
   "source": [
    "from sklearn.datasets import make_blobs"
   ]
  },
  {
   "cell_type": "code",
   "execution_count": 162,
   "metadata": {},
   "outputs": [],
   "source": [
    "X, y = make_blobs(n_samples=100, n_features=2, centers=3, cluster_std=1, \n",
    "           center_box=(-10.0, 10.0), shuffle=False, random_state=1234)"
   ]
  },
  {
   "cell_type": "code",
   "execution_count": 163,
   "metadata": {},
   "outputs": [
    {
     "data": {
      "text/plain": [
       "<matplotlib.collections.PathCollection at 0xd760cf0>"
      ]
     },
     "execution_count": 163,
     "metadata": {},
     "output_type": "execute_result"
    },
    {
     "data": {
      "image/png": "[encoded data removed]",
      "text/plain": [
       "<Figure size 432x288 with 1 Axes>"
      ]
     },
     "metadata": {
      "needs_background": "light"
     },
     "output_type": "display_data"
    }
   ],
   "source": [
    "plt.scatter(X[:,0], X[:, 1], c=y)"
   ]
  },
  {
   "cell_type": "markdown",
   "metadata": {},
   "source": [
    "Проверьте Вашу имплементацию на простых данных (без этого пункта ДЗ не считается выполненным).   \n",
    "КОММЕНТАРИИ НЕ СТИРАТЬ!"
   ]
  },
  {
   "cell_type": "code",
   "execution_count": 298,
   "metadata": {},
   "outputs": [],
   "source": [
    "def clasters(clust):\n",
    "    clust.fit(X)\n",
    "    y = clust.predict(X)\n",
    "    plt.scatter(X[:,0], X[:, 1], c=y)"
   ]
  },
  {
   "cell_type": "code",
   "execution_count": 331,
   "metadata": {},
   "outputs": [
    {
     "data": {
      "image/png": "[encoded data removed]",
      "text/plain": [
       "<Figure size 432x288 with 1 Axes>"
      ]
     },
     "metadata": {
      "needs_background": "light"
     },
     "output_type": "display_data"
    }
   ],
   "source": [
    "## Работоспособность MyKmeans\n",
    "clasters(MyKmeans(k=3))"
   ]
  },
  {
   "cell_type": "code",
   "execution_count": 348,
   "metadata": {},
   "outputs": [
    {
     "data": {
      "image/png": "[encoded data removed]",
      "text/plain": [
       "<Figure size 432x288 with 1 Axes>"
      ]
     },
     "metadata": {
      "needs_background": "light"
     },
     "output_type": "display_data"
    }
   ],
   "source": [
    "## Работоспособность MyKmeans++\n",
    "clasters(MyKmeans(k=3, init='k-means'))"
   ]
  },
  {
   "cell_type": "code",
   "execution_count": 300,
   "metadata": {},
   "outputs": [
    {
     "data": {
      "image/png": "[encoded data removed]",
      "text/plain": [
       "<Figure size 432x288 with 1 Axes>"
      ]
     },
     "metadata": {
      "needs_background": "light"
     },
     "output_type": "display_data"
    }
   ],
   "source": [
    "## Работоспособность MyKmeans с MiniBatchMyKmeans\n",
    "clasters(MiniBatchKMeans(k=3))"
   ]
  },
  {
   "cell_type": "code",
   "execution_count": 349,
   "metadata": {},
   "outputs": [
    {
     "data": {
      "image/png": "[encoded data removed]",
      "text/plain": [
       "<Figure size 432x288 with 1 Axes>"
      ]
     },
     "metadata": {
      "needs_background": "light"
     },
     "output_type": "display_data"
    }
   ],
   "source": [
    "## Работоспособность MyKmeans++ с MiniBatchMyKmeans\n",
    "clasters(MiniBatchKMeans(k=3, init=\"k-means\"))"
   ]
  },
  {
   "cell_type": "code",
   "execution_count": 98,
   "metadata": {},
   "outputs": [],
   "source": [
    "import time"
   ]
  },
  {
   "cell_type": "code",
   "execution_count": 129,
   "metadata": {},
   "outputs": [],
   "source": [
    "def work_time(clust):\n",
    "    tm = []\n",
    "    n_samples_ = [100, 500, 1000, 2500, 5000, 10000, 50000]\n",
    "    for n in n_samples_:\n",
    "        X, y = make_blobs(n_samples=n, n_features=3, centers=4, cluster_std=1, \n",
    "               center_box=(-15.0, 15.0), shuffle=False, random_state=1234)\n",
    "        start = time.time()\n",
    "        clust.fit(X)\n",
    "        finish = time.time()\n",
    "        tm.append(finish - start)\n",
    "    plt.plot(n_samples_, tm)\n",
    "    plt.xlabel('n_samples')\n",
    "    plt.ylabel('time')"
   ]
  },
  {
   "cell_type": "code",
   "execution_count": 130,
   "metadata": {},
   "outputs": [],
   "source": [
    "## Время выполнения алгоритма Kmeans из sklearn\n"
   ]
  },
  {
   "cell_type": "code",
   "execution_count": 165,
   "metadata": {},
   "outputs": [
    {
     "data": {
      "image/png": "[encoded data removed]",
      "text/plain": [
       "<Figure size 432x288 with 1 Axes>"
      ]
     },
     "metadata": {
      "needs_background": "light"
     },
     "output_type": "display_data"
    }
   ],
   "source": [
    "## Время выполнения алгоритма MyKmeans\n",
    "work_time(MyKmeans(k=4))"
   ]
  },
  {
   "cell_type": "code",
   "execution_count": 135,
   "metadata": {},
   "outputs": [
    {
     "data": {
      "image/png": "[encoded data removed]",
      "text/plain": [
       "<Figure size 432x288 with 1 Axes>"
      ]
     },
     "metadata": {
      "needs_background": "light"
     },
     "output_type": "display_data"
    }
   ],
   "source": [
    "## Время выполнения алгоритма MyKmeans++\n",
    "from sklearn.cluster import KMeans\n",
    "work_time(KMeans(n_clusters=4))"
   ]
  },
  {
   "cell_type": "code",
   "execution_count": 166,
   "metadata": {},
   "outputs": [
    {
     "data": {
      "image/png": "[encoded data removed]",
      "text/plain": [
       "<Figure size 432x288 with 1 Axes>"
      ]
     },
     "metadata": {
      "needs_background": "light"
     },
     "output_type": "display_data"
    }
   ],
   "source": [
    "## Время выполнения алгоритма MyKmeans с MiniBatchMyKmeans\n",
    "work_time(MiniBatchKMeans(k=4, batch_size=100))"
   ]
  },
  {
   "cell_type": "code",
   "execution_count": 168,
   "metadata": {},
   "outputs": [
    {
     "data": {
      "image/png": "[encoded data removed]",
      "text/plain": [
       "<Figure size 432x288 with 1 Axes>"
      ]
     },
     "metadata": {
      "needs_background": "light"
     },
     "output_type": "display_data"
    }
   ],
   "source": [
    "## Время выполнения алгоритма  MyKmeans++ с MiniBatchMyKmeans\n",
    "work_time(MiniBatchKMeans(k=4, batch_size=100, init='k-means'))"
   ]
  },
  {
   "cell_type": "markdown",
   "metadata": {},
   "source": [
    "# Применение K-means на реальных данных"
   ]
  },
  {
   "cell_type": "markdown",
   "metadata": {},
   "source": [
    "Загрузите [данные](https://github.com/brenden17/sklearnlab/blob/master/facebook/snsdata.csv) в которых содержится описание интересов профилей учеников старшей школы США.  (без этого пункта задание не считается выполненным).   \n",
    "ВНИМАНИЕ! Проверка должна быть осуществлена на всех реализациях, иначе реализация не будет зачтена!"
   ]
  },
  {
   "cell_type": "code",
   "execution_count": 169,
   "metadata": {},
   "outputs": [
    {
     "data": {
      "text/html": [
       "<div>\n",
       "<style scoped>\n",
       "    .dataframe tbody tr th:only-of-type {\n",
       "        vertical-align: middle;\n",
       "    }\n",
       "\n",
       "    .dataframe tbody tr th {\n",
       "        vertical-align: top;\n",
       "    }\n",
       "\n",
       "    .dataframe thead th {\n",
       "        text-align: right;\n",
       "    }\n",
       "</style>\n",
       "<table border=\"1\" class=\"dataframe\">\n",
       "  <thead>\n",
       "    <tr style=\"text-align: right;\">\n",
       "      <th></th>\n",
       "      <th>gradyear</th>\n",
       "      <th>gender</th>\n",
       "      <th>age</th>\n",
       "      <th>friends</th>\n",
       "      <th>basketball</th>\n",
       "      <th>football</th>\n",
       "      <th>soccer</th>\n",
       "      <th>softball</th>\n",
       "      <th>volleyball</th>\n",
       "      <th>swimming</th>\n",
       "      <th>...</th>\n",
       "      <th>blonde</th>\n",
       "      <th>mall</th>\n",
       "      <th>shopping</th>\n",
       "      <th>clothes</th>\n",
       "      <th>hollister</th>\n",
       "      <th>abercrombie</th>\n",
       "      <th>die</th>\n",
       "      <th>death</th>\n",
       "      <th>drunk</th>\n",
       "      <th>drugs</th>\n",
       "    </tr>\n",
       "  </thead>\n",
       "  <tbody>\n",
       "    <tr>\n",
       "      <th>0</th>\n",
       "      <td>2006</td>\n",
       "      <td>M</td>\n",
       "      <td>18.982</td>\n",
       "      <td>7</td>\n",
       "      <td>0</td>\n",
       "      <td>0</td>\n",
       "      <td>0</td>\n",
       "      <td>0</td>\n",
       "      <td>0</td>\n",
       "      <td>0</td>\n",
       "      <td>...</td>\n",
       "      <td>0</td>\n",
       "      <td>0</td>\n",
       "      <td>0</td>\n",
       "      <td>0</td>\n",
       "      <td>0</td>\n",
       "      <td>0</td>\n",
       "      <td>0</td>\n",
       "      <td>0</td>\n",
       "      <td>0</td>\n",
       "      <td>0</td>\n",
       "    </tr>\n",
       "    <tr>\n",
       "      <th>1</th>\n",
       "      <td>2006</td>\n",
       "      <td>F</td>\n",
       "      <td>18.801</td>\n",
       "      <td>0</td>\n",
       "      <td>0</td>\n",
       "      <td>1</td>\n",
       "      <td>0</td>\n",
       "      <td>0</td>\n",
       "      <td>0</td>\n",
       "      <td>0</td>\n",
       "      <td>...</td>\n",
       "      <td>0</td>\n",
       "      <td>1</td>\n",
       "      <td>0</td>\n",
       "      <td>0</td>\n",
       "      <td>0</td>\n",
       "      <td>0</td>\n",
       "      <td>0</td>\n",
       "      <td>0</td>\n",
       "      <td>0</td>\n",
       "      <td>0</td>\n",
       "    </tr>\n",
       "    <tr>\n",
       "      <th>2</th>\n",
       "      <td>2006</td>\n",
       "      <td>M</td>\n",
       "      <td>18.335</td>\n",
       "      <td>69</td>\n",
       "      <td>0</td>\n",
       "      <td>1</td>\n",
       "      <td>0</td>\n",
       "      <td>0</td>\n",
       "      <td>0</td>\n",
       "      <td>0</td>\n",
       "      <td>...</td>\n",
       "      <td>0</td>\n",
       "      <td>0</td>\n",
       "      <td>0</td>\n",
       "      <td>0</td>\n",
       "      <td>0</td>\n",
       "      <td>0</td>\n",
       "      <td>0</td>\n",
       "      <td>1</td>\n",
       "      <td>0</td>\n",
       "      <td>0</td>\n",
       "    </tr>\n",
       "    <tr>\n",
       "      <th>3</th>\n",
       "      <td>2006</td>\n",
       "      <td>F</td>\n",
       "      <td>18.875</td>\n",
       "      <td>0</td>\n",
       "      <td>0</td>\n",
       "      <td>0</td>\n",
       "      <td>0</td>\n",
       "      <td>0</td>\n",
       "      <td>0</td>\n",
       "      <td>0</td>\n",
       "      <td>...</td>\n",
       "      <td>0</td>\n",
       "      <td>0</td>\n",
       "      <td>0</td>\n",
       "      <td>0</td>\n",
       "      <td>0</td>\n",
       "      <td>0</td>\n",
       "      <td>0</td>\n",
       "      <td>0</td>\n",
       "      <td>0</td>\n",
       "      <td>0</td>\n",
       "    </tr>\n",
       "    <tr>\n",
       "      <th>4</th>\n",
       "      <td>2006</td>\n",
       "      <td>NaN</td>\n",
       "      <td>18.995</td>\n",
       "      <td>10</td>\n",
       "      <td>0</td>\n",
       "      <td>0</td>\n",
       "      <td>0</td>\n",
       "      <td>0</td>\n",
       "      <td>0</td>\n",
       "      <td>0</td>\n",
       "      <td>...</td>\n",
       "      <td>0</td>\n",
       "      <td>0</td>\n",
       "      <td>2</td>\n",
       "      <td>0</td>\n",
       "      <td>0</td>\n",
       "      <td>0</td>\n",
       "      <td>0</td>\n",
       "      <td>0</td>\n",
       "      <td>1</td>\n",
       "      <td>1</td>\n",
       "    </tr>\n",
       "  </tbody>\n",
       "</table>\n",
       "<p>5 rows × 40 columns</p>\n",
       "</div>"
      ],
      "text/plain": [
       "   gradyear gender     age  friends  basketball  football  soccer  softball  \\\n",
       "0      2006      M  18.982        7           0         0       0         0   \n",
       "1      2006      F  18.801        0           0         1       0         0   \n",
       "2      2006      M  18.335       69           0         1       0         0   \n",
       "3      2006      F  18.875        0           0         0       0         0   \n",
       "4      2006    NaN  18.995       10           0         0       0         0   \n",
       "\n",
       "   volleyball  swimming  ...    blonde  mall  shopping  clothes  hollister  \\\n",
       "0           0         0  ...         0     0         0        0          0   \n",
       "1           0         0  ...         0     1         0        0          0   \n",
       "2           0         0  ...         0     0         0        0          0   \n",
       "3           0         0  ...         0     0         0        0          0   \n",
       "4           0         0  ...         0     0         2        0          0   \n",
       "\n",
       "   abercrombie  die  death  drunk  drugs  \n",
       "0            0    0      0      0      0  \n",
       "1            0    0      0      0      0  \n",
       "2            0    0      1      0      0  \n",
       "3            0    0      0      0      0  \n",
       "4            0    0      0      1      1  \n",
       "\n",
       "[5 rows x 40 columns]"
      ]
     },
     "execution_count": 169,
     "metadata": {},
     "output_type": "execute_result"
    }
   ],
   "source": [
    "df_sns = pd.read_csv('snsdata.csv', sep=',')\n",
    "df_sns.head()"
   ]
  },
  {
   "cell_type": "markdown",
   "metadata": {},
   "source": [
    "Данные устроены так: \n",
    "* Год выпуска\n",
    "* Пол\n",
    "* Возраст\n",
    "* Количество друзей\n",
    "* 36 ключевых слов, которые встречаются в профилe facebook (интересы, сообщества, встречи)"
   ]
  },
  {
   "cell_type": "markdown",
   "metadata": {},
   "source": [
    "* Удалите все признаки кроме 36 ключевых слов.\n",
    "* Нормализуйте данные - из каждого столбца вычтите его среднее значение и поделите на стандартное отклонение.\n",
    "* Используйте метод k-means чтобы выделить 9 кластеров\n",
    "* Попробуйте проинтерпретировать каждый кластер проанализировав полученные центройды (Некоторые кластеры могут быть очень большие и очень маленькие - плохо интерпретируются)   \n",
    "КОММЕНТАРИИ НЕ СТИРАТЬ!"
   ]
  },
  {
   "cell_type": "code",
   "execution_count": 170,
   "metadata": {},
   "outputs": [],
   "source": [
    "X = df_sns.drop(df_sns.columns[:4], axis=1)\n",
    "X = (X - X.mean(axis=0)) / X.std(axis=0)"
   ]
  },
  {
   "cell_type": "code",
   "execution_count": 171,
   "metadata": {},
   "outputs": [],
   "source": [
    "def clusters(clust):\n",
    "    clust.fit(X.values)\n",
    "    X_ = X\n",
    "    X_.loc[:, 'label'] = clust.predict(X.values)\n",
    "    X_words = X_.iloc[:, :]\n",
    "    clusters = X_words.groupby('label').mean()\n",
    "    for i in range(9):\n",
    "        print('='*10 + '\\n')\n",
    "        print('cluster label {}'.format(i))\n",
    "        print(clusters.loc[i].abs().sort_values(ascending = False).head(5))"
   ]
  },
  {
   "cell_type": "code",
   "execution_count": 172,
   "metadata": {},
   "outputs": [
    {
     "name": "stdout",
     "output_type": "stream",
     "text": [
      "==========\n",
      "\n",
      "cluster label 0\n",
      "abercrombie    4.376551\n",
      "hollister      2.049202\n",
      "shopping       0.497908\n",
      "hair           0.273833\n",
      "hot            0.266948\n",
      "Name: 0, dtype: float64\n",
      "==========\n",
      "\n",
      "cluster label 1\n",
      "god       3.272426\n",
      "bible     2.843399\n",
      "jesus     2.817613\n",
      "church    2.149602\n",
      "die       0.300695\n",
      "Name: 1, dtype: float64\n",
      "==========\n",
      "\n",
      "cluster label 2\n",
      "music       0.330306\n",
      "hair        0.255564\n",
      "sexy        0.231422\n",
      "shopping    0.230958\n",
      "death       0.215947\n",
      "Name: 2, dtype: float64\n",
      "==========\n",
      "\n",
      "cluster label 3\n",
      "music       0.971930\n",
      "band        0.699366\n",
      "marching    0.595311\n",
      "rock        0.222909\n",
      "drunk       0.222242\n",
      "Name: 3, dtype: float64\n",
      "==========\n",
      "\n",
      "cluster label 4\n",
      "hollister    2.899932\n",
      "mall         2.523948\n",
      "clothes      2.245328\n",
      "shopping     1.733954\n",
      "hair         1.670506\n",
      "Name: 4, dtype: float64\n",
      "==========\n",
      "\n",
      "cluster label 5\n",
      "basketball    2.523720\n",
      "sports        1.803949\n",
      "baseball      1.599469\n",
      "football      1.285350\n",
      "hair          1.069089\n",
      "Name: 5, dtype: float64\n",
      "==========\n",
      "\n",
      "cluster label 6\n",
      "sexy          2.051115\n",
      "volleyball    1.124164\n",
      "hot           0.337705\n",
      "cute          0.263851\n",
      "death         0.164849\n",
      "Name: 6, dtype: float64\n",
      "==========\n",
      "\n",
      "cluster label 7\n",
      "death       1.925024\n",
      "dance       0.977476\n",
      "dress       0.566212\n",
      "shopping    0.504367\n",
      "die         0.484735\n",
      "Name: 7, dtype: float64\n",
      "==========\n",
      "\n",
      "cluster label 8\n",
      "cheerleading    5.513074\n",
      "shopping        0.504907\n",
      "football        0.300220\n",
      "cute            0.222690\n",
      "mall            0.213987\n",
      "Name: 8, dtype: float64\n",
      "Wall time: 516 ms\n"
     ]
    }
   ],
   "source": [
    "## MyKMeans\n",
    "%time clusters(MyKmeans(k=9))"
   ]
  },
  {
   "cell_type": "code",
   "execution_count": 173,
   "metadata": {},
   "outputs": [
    {
     "name": "stdout",
     "output_type": "stream",
     "text": [
      "==========\n",
      "\n",
      "cluster label 0\n",
      "sexy            0.833400\n",
      "death           0.733127\n",
      "cheerleading    0.557640\n",
      "volleyball      0.371181\n",
      "dance           0.361844\n",
      "Name: 0, dtype: float64\n",
      "==========\n",
      "\n",
      "cluster label 1\n",
      "mall         4.869314\n",
      "shopping     1.394373\n",
      "hollister    1.030970\n",
      "cute         0.965359\n",
      "clothes      0.831487\n",
      "Name: 1, dtype: float64\n",
      "==========\n",
      "\n",
      "cluster label 2\n",
      "soccer        5.906890\n",
      "shopping      0.350345\n",
      "swimming      0.350044\n",
      "basketball    0.265568\n",
      "sports        0.240991\n",
      "Name: 2, dtype: float64\n",
      "==========\n",
      "\n",
      "cluster label 3\n",
      "softball      5.522601\n",
      "volleyball    0.725721\n",
      "basketball    0.724787\n",
      "sports        0.438360\n",
      "baseball      0.270970\n",
      "Name: 3, dtype: float64\n",
      "==========\n",
      "\n",
      "cluster label 4\n",
      "kissed     2.650044\n",
      "hair       2.048876\n",
      "clothes    1.753277\n",
      "sex        1.675862\n",
      "dress      1.610320\n",
      "Name: 4, dtype: float64\n",
      "==========\n",
      "\n",
      "cluster label 5\n",
      "bible     10.904440\n",
      "jesus      7.908722\n",
      "god        6.593484\n",
      "church     1.714563\n",
      "death      0.659497\n",
      "Name: 5, dtype: float64\n",
      "==========\n",
      "\n",
      "cluster label 6\n",
      "sports        0.284271\n",
      "sexy          0.214327\n",
      "death         0.200908\n",
      "hair          0.178117\n",
      "basketball    0.162179\n",
      "Name: 6, dtype: float64\n",
      "==========\n",
      "\n",
      "cluster label 7\n",
      "rock      7.013187\n",
      "music     2.365256\n",
      "hair      2.252262\n",
      "kissed    1.957051\n",
      "sex       1.787962\n",
      "Name: 7, dtype: float64\n",
      "==========\n",
      "\n",
      "cluster label 8\n",
      "sports        2.152383\n",
      "basketball    0.740581\n",
      "football      0.627888\n",
      "baseball      0.596542\n",
      "sexy          0.178600\n",
      "Name: 8, dtype: float64\n",
      "Wall time: 719 ms\n"
     ]
    }
   ],
   "source": [
    "## MyKMeans++\n",
    "%time clusters(MyKmeans(k=9, init='k-means'))"
   ]
  },
  {
   "cell_type": "code",
   "execution_count": 174,
   "metadata": {},
   "outputs": [
    {
     "name": "stdout",
     "output_type": "stream",
     "text": [
      "==========\n",
      "\n",
      "cluster label 0\n",
      "hair      4.565726\n",
      "sex       4.065500\n",
      "kissed    3.525665\n",
      "music     3.141765\n",
      "die       2.779370\n",
      "Name: 0, dtype: float64\n",
      "==========\n",
      "\n",
      "cluster label 1\n",
      "soccer       7.298639\n",
      "sports       0.504651\n",
      "shopping     0.466112\n",
      "god          0.416817\n",
      "hollister    0.400158\n",
      "Name: 1, dtype: float64\n",
      "==========\n",
      "\n",
      "cluster label 2\n",
      "abercrombie    1.027786\n",
      "cute           0.934266\n",
      "sports         0.815484\n",
      "hollister      0.446425\n",
      "kissed         0.351312\n",
      "Name: 2, dtype: float64\n",
      "==========\n",
      "\n",
      "cluster label 3\n",
      "band        4.339288\n",
      "marching    3.717371\n",
      "kissed      1.358089\n",
      "rock        1.079728\n",
      "sports      1.031302\n",
      "Name: 3, dtype: float64\n",
      "==========\n",
      "\n",
      "cluster label 4\n",
      "softball      6.304857\n",
      "basketball    0.902318\n",
      "volleyball    0.549106\n",
      "sports        0.548278\n",
      "church        0.463302\n",
      "Name: 4, dtype: float64\n",
      "==========\n",
      "\n",
      "cluster label 5\n",
      "tennis        5.095870\n",
      "dress         4.790854\n",
      "basketball    1.578713\n",
      "shopping      0.821536\n",
      "dance         0.790636\n",
      "Name: 5, dtype: float64\n",
      "==========\n",
      "\n",
      "cluster label 6\n",
      "sexy            0.735649\n",
      "death           0.660808\n",
      "cheerleading    0.513247\n",
      "mall            0.444772\n",
      "shopping        0.426809\n",
      "Name: 6, dtype: float64\n",
      "==========\n",
      "\n",
      "cluster label 7\n",
      "cute        0.261752\n",
      "sexy        0.217669\n",
      "death       0.205305\n",
      "shopping    0.199840\n",
      "hair        0.198911\n",
      "Name: 7, dtype: float64\n",
      "==========\n",
      "\n",
      "cluster label 8\n",
      "jesus       3.159085\n",
      "bible       2.429500\n",
      "baseball    1.834748\n",
      "god         1.419265\n",
      "church      1.263051\n",
      "Name: 8, dtype: float64\n",
      "Wall time: 703 ms\n"
     ]
    }
   ],
   "source": [
    "## MyKMeans с MiniBatchMyKMeans\n",
    "%time clusters(MiniBatchKMeans(k=9, batch_size = 100))"
   ]
  },
  {
   "cell_type": "code",
   "execution_count": 184,
   "metadata": {},
   "outputs": [
    {
     "name": "stdout",
     "output_type": "stream",
     "text": [
      "==========\n",
      "\n",
      "cluster label 0\n",
      "hair        0.150490\n",
      "baseball    0.126694\n",
      "kissed      0.097535\n",
      "drugs       0.095146\n",
      "hot         0.091983\n",
      "Name: 0, dtype: float64\n",
      "==========\n",
      "\n",
      "cluster label 1\n",
      "hair       2.477411\n",
      "drugs      1.669030\n",
      "kissed     1.635630\n",
      "drunk      1.407124\n",
      "clothes    1.212565\n",
      "Name: 1, dtype: float64\n",
      "==========\n",
      "\n",
      "cluster label 2\n",
      "volleyball    3.425642\n",
      "swimming      2.895645\n",
      "hot           1.671503\n",
      "football      1.334153\n",
      "soccer        1.255804\n",
      "Name: 2, dtype: float64\n",
      "==========\n",
      "\n",
      "cluster label 3\n",
      "sexy     4.707981\n",
      "cute     3.799821\n",
      "mall     1.613541\n",
      "hair     1.473129\n",
      "death    1.341054\n",
      "Name: 3, dtype: float64\n",
      "==========\n",
      "\n",
      "cluster label 4\n",
      "die      27.887037\n",
      "death     2.485754\n",
      "dance     1.526641\n",
      "hair      1.072385\n",
      "rock      1.050379\n",
      "Name: 4, dtype: float64\n",
      "==========\n",
      "\n",
      "cluster label 5\n",
      "baseball     3.594811\n",
      "hot          1.998877\n",
      "football     0.706467\n",
      "jesus        0.599635\n",
      "hollister    0.581139\n",
      "Name: 5, dtype: float64\n",
      "==========\n",
      "\n",
      "cluster label 6\n",
      "tennis        9.751529\n",
      "sports        0.485583\n",
      "basketball    0.403681\n",
      "shopping      0.399588\n",
      "church        0.392376\n",
      "Name: 6, dtype: float64\n",
      "==========\n",
      "\n",
      "cluster label 7\n",
      "football      15.709831\n",
      "basketball     4.638537\n",
      "baseball       4.271207\n",
      "mall           1.546468\n",
      "die            0.772705\n",
      "Name: 7, dtype: float64\n",
      "==========\n",
      "\n",
      "cluster label 8\n",
      "bible     28.671859\n",
      "god       12.392413\n",
      "jesus     11.267828\n",
      "church     7.695782\n",
      "death      1.264741\n",
      "Name: 8, dtype: float64\n",
      "Wall time: 969 ms\n"
     ]
    }
   ],
   "source": [
    "## MyKMeans++ с MiniBatchMyKMeans\n",
    "%time clusters(MiniBatchKMeans(k=9, init='k-means'))"
   ]
  },
  {
   "cell_type": "code",
   "execution_count": null,
   "metadata": {},
   "outputs": [],
   "source": [
    "## Вывод\n",
    "На данном примере лучшее время у обычного KMeans"
   ]
  }
 ],
 "metadata": {
  "anaconda-cloud": {},
  "kernelspec": {
   "display_name": "Python 3",
   "language": "python",
   "name": "python3"
  },
  "language_info": {
   "codemirror_mode": {
    "name": "ipython",
    "version": 3
   },
   "file_extension": ".py",
   "mimetype": "text/x-python",
   "name": "python",
   "nbconvert_exporter": "python",
   "pygments_lexer": "ipython3",
   "version": "3.7.0"
  },
  "nav_menu": {},
  "toc": {
   "navigate_menu": true,
   "number_sections": false,
   "sideBar": true,
   "threshold": 6,
   "toc_cell": false,
   "toc_section_display": "block",
   "toc_window_display": true
  }
 },
 "nbformat": 4,
 "nbformat_minor": 2
}
